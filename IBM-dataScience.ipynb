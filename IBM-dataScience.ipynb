{
 "cells": [
  {
   "cell_type": "markdown",
   "id": "923aebe1-89b0-4913-adf8-25568582f526",
   "metadata": {},
   "source": [
    "# Data Science Tools and Ecosystem"
   ]
  },
  {
   "cell_type": "markdown",
   "id": "6c8b9da6-bc77-422e-a429-fad616542892",
   "metadata": {},
   "source": [
    "Neste notebook, as Ferramentas e Ecossistema de Ciência de Dados são resumidos."
   ]
  },
  {
   "cell_type": "markdown",
   "id": "ce06e4f2-447f-43e8-9342-93a2263b313d",
   "metadata": {},
   "source": [
    "__Objetivos:__\n",
    "* Listar linguagens populares para Ciência de Dados\n",
    "* Listar principais bibliotecas\n",
    "* Mostrar um tabela em Markdawn\n",
    "* Apresentar uma expressão aritmética"
   ]
  },
  {
   "cell_type": "markdown",
   "id": "9701d4bd-b05f-4c17-9b00-50ab6d1a5c5b",
   "metadata": {},
   "source": [
    "Algumas das linguagens populares que os Cientistas de Dados usam são:\n",
    "1. Python\n",
    "2. R\n",
    "3. SQL"
   ]
  },
  {
   "cell_type": "markdown",
   "id": "6c4114a9-6918-4a5d-a952-4cabd222d47f",
   "metadata": {},
   "source": [
    "Algumas das bibliotecas comumente usadas por Cientistas de Dados incluem:\n",
    "1. NumPy\n",
    "2. Pandas\n",
    "3. Matplotlib\n",
    "4. Seaborn\n",
    "5. Plotly\n",
    "6. Scikit-Learn"
   ]
  },
  {
   "cell_type": "markdown",
   "id": "1863ec1b-4f2d-4d39-ab5a-8ed097f62cbf",
   "metadata": {},
   "source": [
    "|Ferramentas de Ciência de Dados|\n",
    "|---|\n",
    "|RStudio|\n",
    "|JupyterLab|\n",
    "|Spider|"
   ]
  },
  {
   "cell_type": "markdown",
   "id": "d9041fc4-8b1e-4e4e-8959-94a17b0b1bd2",
   "metadata": {},
   "source": [
    "### Abaixo estão alguns exemplos de avaliação de expressões aritméticas em Python."
   ]
  },
  {
   "cell_type": "code",
   "execution_count": 4,
   "id": "fd27032a-e1b3-4231-b4da-91b46e022cd1",
   "metadata": {},
   "outputs": [
    {
     "data": {
      "text/plain": [
       "17"
      ]
     },
     "execution_count": 4,
     "metadata": {},
     "output_type": "execute_result"
    }
   ],
   "source": [
    "# Esta é uma expressão aritmética simples para multiplicar e depois adicionar inteiros\n",
    "(3*4)+5"
   ]
  },
  {
   "cell_type": "code",
   "execution_count": 5,
   "id": "e647eee6-3e76-4858-b332-f0bb0ec3467f",
   "metadata": {},
   "outputs": [
    {
     "name": "stdout",
     "output_type": "stream",
     "text": [
      "3 horas e 20 minutos\n"
     ]
    }
   ],
   "source": [
    "# Isso converterá 200 minutos em horas dividindo por 60\n",
    "minutos = 200\n",
    "horas_inteiras = minutos // 60\n",
    "minutos_restantes = minutos % 60\n",
    "print(f\"{horas_inteiras} horas e {minutos_restantes} minutos\")"
   ]
  },
  {
   "cell_type": "markdown",
   "id": "15b83c52-6d62-42f8-9058-d415ec93259a",
   "metadata": {},
   "source": [
    "## Autor\n",
    "Hudson Santos"
   ]
  },
  {
   "cell_type": "code",
   "execution_count": null,
   "id": "20952e89-dadd-4bca-b3c3-fa246f21d39e",
   "metadata": {},
   "outputs": [],
   "source": []
  }
 ],
 "metadata": {
  "kernelspec": {
   "display_name": "Python 3 (ipykernel)",
   "language": "python",
   "name": "python3"
  },
  "language_info": {
   "codemirror_mode": {
    "name": "ipython",
    "version": 3
   },
   "file_extension": ".py",
   "mimetype": "text/x-python",
   "name": "python",
   "nbconvert_exporter": "python",
   "pygments_lexer": "ipython3",
   "version": "3.12.8"
  }
 },
 "nbformat": 4,
 "nbformat_minor": 5
}
